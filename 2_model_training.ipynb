{
 "cells": [
  {
   "cell_type": "code",
   "execution_count": 46,
   "id": "d83c9ea1",
   "metadata": {},
   "outputs": [],
   "source": [
    "import os\n",
    "import torch\n",
    "import torchvision\n",
    "from torch import nn\n",
    "from torchvision import datasets, transforms\n",
    "import matplotlib.pyplot as plt\n",
    "from torch.utils.data import DataLoader\n",
    "from dataset import CustomImageFolder\n",
    "import tqdm\n",
    "import json"
   ]
  },
  {
   "cell_type": "code",
   "execution_count": 8,
   "id": "9757abc2",
   "metadata": {},
   "outputs": [],
   "source": [
    "device = \"cuda\" if torch.cuda.is_available() else \"cpu\""
   ]
  },
  {
   "cell_type": "code",
   "execution_count": 62,
   "id": "ccc931f5",
   "metadata": {},
   "outputs": [],
   "source": [
    "BATCH_SIZE = 32\n",
    "\n",
    "transform = torchvision.models.ViT_B_16_Weights.DEFAULT.transforms()\n",
    "\n",
    "train_dataloader = torch.utils.data.DataLoader(\n",
    "    CustomImageFolder(root_dir=\"./dataset/train\", transform=transform),\n",
    "    batch_size=BATCH_SIZE,\n",
    "    shuffle=True,\n",
    "    num_workers=2\n",
    ")\n",
    "\n",
    "val_dataloader = torch.utils.data.DataLoader(\n",
    "    CustomImageFolder(root_dir=\"./dataset/val\", transform=transform),\n",
    "    batch_size=BATCH_SIZE,\n",
    "    shuffle=True,\n",
    "    num_workers=2\n",
    ")"
   ]
  },
  {
   "cell_type": "code",
   "execution_count": 63,
   "id": "85f27800",
   "metadata": {},
   "outputs": [],
   "source": [
    "# Start from vit_b_16 model weights\n",
    "model = torchvision.models.vit_b_16(weights=torchvision.models.ViT_B_16_Weights.DEFAULT)\n",
    "\n",
    "# Freeze all the params\n",
    "for parameter in model.parameters():\n",
    "    parameter.requires_grad = False\n",
    "\n",
    "# Modify model head to include num classes\n",
    "model.heads = nn.Linear(in_features=768, out_features=len(train_dataloader.dataset.classes))\n",
    "\n",
    "# Move model to GPU (if available)\n",
    "model = model.to(device)"
   ]
  },
  {
   "cell_type": "code",
   "execution_count": 64,
   "id": "a90e0ff6",
   "metadata": {},
   "outputs": [],
   "source": [
    "# Create optimizer and loss function\n",
    "optimizer = torch.optim.Adam(params=model.parameters(), lr=1e-3)\n",
    "loss_fn = torch.nn.CrossEntropyLoss()"
   ]
  },
  {
   "cell_type": "code",
   "execution_count": 65,
   "id": "0a7ecfb4",
   "metadata": {},
   "outputs": [],
   "source": [
    "def epoch_step(model, dataloader, device, validation=False):\n",
    "    # Put model in train mode\n",
    "    if validation:\n",
    "        model.eval()\n",
    "    else:\n",
    "        model.train()\n",
    "\n",
    "    # Setup train loss and train accuracy values\n",
    "    epoch_loss, epoch_acc = 0, 0\n",
    "\n",
    "    # Loop through data loader data batches\n",
    "    for batch, (X, y) in enumerate(tqdm.tqdm(dataloader)):\n",
    "        # Send data to target device\n",
    "        X, y = X.to(device), y.to(device)\n",
    "\n",
    "        # 1. Forward pass\n",
    "        y_pred = model(X)\n",
    "\n",
    "        # 2. Calculate  and accumulate loss\n",
    "        loss = loss_fn(y_pred, y)\n",
    "        epoch_loss += loss.item() \n",
    "\n",
    "        # 3. Optimizer zero grad\n",
    "        optimizer.zero_grad()\n",
    "\n",
    "        # 4. Loss backward\n",
    "        loss.backward()\n",
    "\n",
    "        # 5. Optimizer step\n",
    "        optimizer.step()\n",
    "\n",
    "        # Calculate and accumulate accuracy metric across all batches\n",
    "        y_pred_class = torch.argmax(torch.softmax(y_pred, dim=1), dim=1)\n",
    "        epoch_acc += (y_pred_class == y).sum().item()/len(y_pred)\n",
    "\n",
    "    # Adjust metrics to get average loss and accuracy per batch \n",
    "    epoch_loss = epoch_loss / len(dataloader)\n",
    "    epoch_acc = epoch_acc / len(dataloader)\n",
    "\n",
    "    return epoch_loss, epoch_acc"
   ]
  },
  {
   "cell_type": "code",
   "execution_count": null,
   "id": "6c236f3c",
   "metadata": {},
   "outputs": [],
   "source": [
    "!rm -rf weights\n",
    "!mkdir -p weights\n",
    "\n",
    "history = {\n",
    "    \"train_loss\": [],\n",
    "    \"train_acc\": [],\n",
    "    \"val_loss\": [],\n",
    "    \"val_acc\": []\n",
    "}\n",
    "\n",
    "NUM_EPOCHS = 20\n",
    "best_acc = 0.0\n",
    "\n",
    "for epoch in range(NUM_EPOCHS):\n",
    "    # Train 1 epoch\n",
    "    train_loss, train_acc = epoch_step(\n",
    "        model=model,\n",
    "        dataloader=train_dataloader,\n",
    "        device=device\n",
    "    )\n",
    "    \n",
    "    # Val after 1 epoch\n",
    "    val_loss, val_acc = epoch_step(\n",
    "        model=model,\n",
    "        dataloader=val_dataloader,\n",
    "        device=device\n",
    "    )\n",
    "\n",
    "    # Print out what's happening\n",
    "    print(\n",
    "      f\"Epoch: {epoch+1} | \"\n",
    "      f\"train_loss: {train_loss:.4f} | \"\n",
    "      f\"train_acc: {train_acc:.4f} | \"\n",
    "      f\"val_loss: {val_loss:.4f} | \"\n",
    "      f\"val_acc: {val_acc:.4f}\"\n",
    "    )\n",
    "    \n",
    "    history[\"train_loss\"].append(train_loss)\n",
    "    history[\"train_acc\"].append(train_acc)\n",
    "    history[\"val_loss\"].append(val_loss)\n",
    "    history[\"val_acc\"].append(val_acc)\n",
    "    \n",
    "    # write training history to disk\n",
    "    with open(\"training_history.json\", \"w\") as f:\n",
    "        f.write(json.dumps(history))\n",
    "    \n",
    "    # save latest model\n",
    "    torch.save(model.state_dict(), 'weights/model_latest.pth')\n",
    "    \n",
    "    # save best model\n",
    "    if val_acc > best_acc:\n",
    "        best_acc = val_acc\n",
    "        torch.save(model.state_dict(), 'weights/model_best.pth')"
   ]
  },
  {
   "cell_type": "code",
   "execution_count": 67,
   "id": "2cefe3e5",
   "metadata": {},
   "outputs": [
    {
     "data": {
      "text/plain": [
       "['camouflage', 'normal']"
      ]
     },
     "execution_count": 67,
     "metadata": {},
     "output_type": "execute_result"
    }
   ],
   "source": [
    "train_dataloader.dataset.classes"
   ]
  }
 ],
 "metadata": {
  "kernelspec": {
   "display_name": "Python 3 (ipykernel)",
   "language": "python",
   "name": "python3"
  },
  "language_info": {
   "codemirror_mode": {
    "name": "ipython",
    "version": 3
   },
   "file_extension": ".py",
   "mimetype": "text/x-python",
   "name": "python",
   "nbconvert_exporter": "python",
   "pygments_lexer": "ipython3",
   "version": "3.8.10"
  }
 },
 "nbformat": 4,
 "nbformat_minor": 5
}
