{
 "cells": [
  {
   "cell_type": "code",
   "execution_count": 32,
   "id": "c823899a",
   "metadata": {},
   "outputs": [],
   "source": [
    "import json\n",
    "import numpy as np\n",
    "import matplotlib.pyplot as plt\n",
    "plt.style.use(\"ggplot\")"
   ]
  },
  {
   "cell_type": "code",
   "execution_count": null,
   "id": "7ce0b989",
   "metadata": {},
   "outputs": [],
   "source": [
    "with open(\"training_history.json\") as f:\n",
    "    history = json.load(f)\n",
    "\n",
    "# Plot loss graph\n",
    "plt.figure(figsize=(20, 7))\n",
    "plt.subplot(1, 2, 1)\n",
    "\n",
    "plt.title(\"Training Loss\")\n",
    "plt.plot(range(1, len(history[\"train_loss\"])+1), history[\"train_loss\"], label=\"train_loss\")\n",
    "plt.plot(range(1, len(history[\"val_loss\"])+1), history[\"val_loss\"], label=\"val_loss\")\n",
    "plt.legend()\n",
    "plt.xlabel(\"Epochs\")\n",
    "plt.ylabel(\"Loss\")\n",
    "\n",
    "plt.subplot(1, 2, 2)\n",
    "plt.title(\"Training Accuracy\")\n",
    "plt.plot(range(1, len(history[\"train_acc\"])+1), history[\"train_acc\"], label=\"train_acc\")\n",
    "plt.plot(range(1, len(history[\"val_acc\"])+1), history[\"val_acc\"], label=\"val_acc\")\n",
    "plt.legend()\n",
    "plt.xlabel(\"Epochs\")\n",
    "plt.ylabel(\"Accuracy\")\n",
    "plt.show()"
   ]
  }
 ],
 "metadata": {
  "kernelspec": {
   "display_name": "Python 3 (ipykernel)",
   "language": "python",
   "name": "python3"
  },
  "language_info": {
   "codemirror_mode": {
    "name": "ipython",
    "version": 3
   },
   "file_extension": ".py",
   "mimetype": "text/x-python",
   "name": "python",
   "nbconvert_exporter": "python",
   "pygments_lexer": "ipython3",
   "version": "3.8.10"
  }
 },
 "nbformat": 4,
 "nbformat_minor": 5
}
